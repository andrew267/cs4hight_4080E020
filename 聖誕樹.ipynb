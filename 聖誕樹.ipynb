{
  "nbformat": 4,
  "nbformat_minor": 0,
  "metadata": {
    "colab": {
      "name": "Untitled0.ipynb",
      "version": "0.3.2",
      "provenance": [],
      "include_colab_link": true
    },
    "kernelspec": {
      "name": "python3",
      "display_name": "Python 3"
    }
  },
  "cells": [
    {
      "cell_type": "markdown",
      "metadata": {
        "id": "view-in-github",
        "colab_type": "text"
      },
      "source": [
        "<a href=\"https://colab.research.google.com/github/andrew267/cs4hight_4080E020/blob/master/%E8%81%96%E8%AA%95%E6%A8%B9.ipynb\" target=\"_parent\"><img src=\"https://colab.research.google.com/assets/colab-badge.svg\" alt=\"Open In Colab\"/></a>"
      ]
    },
    {
      "cell_type": "code",
      "metadata": {
        "id": "h8-5DprBZy0U",
        "colab_type": "code",
        "outputId": "ed419883-3aed-4143-cbc4-1b0f639f568d",
        "colab": {
          "base_uri": "https://localhost:8080/",
          "height": 235
        }
      },
      "source": [
        "print(\"        5         \")\n",
        "print(\"       555        \")\n",
        "print(\"      55555       \")\n",
        "print(\"     5555555      \")\n",
        "print(\"    555555555     \")\n",
        "print(\"   55555555555    \")\n",
        "print(\"  5555555555555   \")\n",
        "print(\" 555555555555555  \")\n",
        "print(\"      55555       \")\n",
        "print(\"      55555       \")\n",
        "print(\"      55555       \")\n",
        "print(\"      55555       \")\n",
        "print(\"      55555       \")"
      ],
      "execution_count": 0,
      "outputs": [
        {
          "output_type": "stream",
          "text": [
            "        5         \n",
            "       555        \n",
            "      55555       \n",
            "     5555555      \n",
            "    555555555     \n",
            "   55555555555    \n",
            "  5555555555555   \n",
            " 555555555555555  \n",
            "      55555       \n",
            "      55555       \n",
            "      55555       \n",
            "      55555       \n",
            "      55555       \n"
          ],
          "name": "stdout"
        }
      ]
    }
  ]
}